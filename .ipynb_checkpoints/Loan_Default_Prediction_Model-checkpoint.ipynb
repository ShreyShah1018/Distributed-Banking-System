{
 "cells": [
  {
   "cell_type": "code",
   "execution_count": null,
   "id": "ee9736c2",
   "metadata": {},
   "outputs": [],
   "source": [
    "import pandas as pd\n",
    "import numpy as np\n",
    "import matplotlib.pyplot as plt\n",
    "import seaborn as sns\n",
    "\n",
    "from sklearn.model_selection import train_test_split, GridSearchCV\n",
    "from sklearn.ensemble import RandomForestClassifier\n",
    "from sklearn.tree import DecisionTreeClassifier\n",
    "from sklearn.neighbors import KNeighborsClassifier\n",
    "from sklearn.naive_bayes import GaussianNB\n",
    "from xgboost import XGBClassifier\n",
    "from sklearn.metrics import accuracy_score, f1_score, roc_auc_score, classification_report, confusion_matrix\n",
    "from imblearn.over_sampling import SMOTE"
   ]
  },
  {
   "cell_type": "code",
   "execution_count": null,
   "id": "f3224a8e",
   "metadata": {},
   "outputs": [],
   "source": [
    "df = pd.read_csv(\"loan_data_export.csv\")\n",
    "df.head()"
   ]
  },
  {
   "cell_type": "code",
   "execution_count": null,
   "id": "2758af6b",
   "metadata": {},
   "outputs": [],
   "source": [
    "df['loan_to_request_ratio'] = df.apply(lambda row: row['loanamount'] / row['requestedamount'] if row['requestedamount'] else 0, axis=1)\n",
    "df['is_high_interest'] = df['interestrate'].apply(lambda x: 1 if x > 6 else 0)\n",
    "\n",
    "def term_category(term):\n",
    "    if term <= 60:\n",
    "        return 0\n",
    "    elif term <= 180:\n",
    "        return 1\n",
    "    else:\n",
    "        return 2\n",
    "\n",
    "df['loan_term_category'] = df['term'].apply(term_category)\n",
    "df['log_requestedamount'] = np.log1p(df['requestedamount'])\n",
    "df['log_loanamount'] = np.log1p(df['loanamount'])\n",
    "\n",
    "features = ['log_requestedamount', 'log_loanamount', 'interestrate', 'loan_to_request_ratio', 'is_high_interest', 'loan_term_category', 'loantype_encoded']\n",
    "X = df[features]\n",
    "y = df['high_risk']"
   ]
  },
  {
   "cell_type": "code",
   "execution_count": null,
   "id": "e8cbb9f7",
   "metadata": {},
   "outputs": [],
   "source": [
    "plt.figure(figsize=(10, 6))\n",
    "sns.heatmap(df[features + ['high_risk']].corr(), annot=True, cmap='coolwarm')\n",
    "plt.title('Correlation Heatmap with Target')\n",
    "plt.show()"
   ]
  },
  {
   "cell_type": "code",
   "execution_count": null,
   "id": "853fbd2c",
   "metadata": {},
   "outputs": [],
   "source": [
    "X_train, X_test, y_train, y_test = train_test_split(X, y, test_size=0.3, random_state=42)\n",
    "smote = SMOTE(random_state=42)\n",
    "X_train_bal, y_train_bal = smote.fit_resample(X_train, y_train)"
   ]
  },
  {
   "cell_type": "code",
   "execution_count": null,
   "id": "3c23ba2b",
   "metadata": {},
   "outputs": [],
   "source": [
    "models = {\n",
    "    'RandomForest': RandomForestClassifier(n_estimators=200, max_depth=10, random_state=42),\n",
    "    'XGBoost': XGBClassifier(learning_rate=0.05, max_depth=4, n_estimators=200, use_label_encoder=False, eval_metric='logloss'),\n",
    "    'NaiveBayes': GaussianNB(),\n",
    "    'DecisionTree': DecisionTreeClassifier(max_depth=10, random_state=42),\n",
    "    'KNN': KNeighborsClassifier(n_neighbors=5)\n",
    "}\n",
    "\n",
    "results = {}\n",
    "\n",
    "for name, model in models.items():\n",
    "    model.fit(X_train_bal, y_train_bal)\n",
    "    y_pred = model.predict(X_test)\n",
    "    y_proba = model.predict_proba(X_test)[:, 1] if hasattr(model, \"predict_proba\") else [0] * len(y_pred)\n",
    "\n",
    "    results[name] = {\n",
    "        \"accuracy\": accuracy_score(y_test, y_pred),\n",
    "        \"f1_score\": f1_score(y_test, y_pred),\n",
    "        \"roc_auc\": roc_auc_score(y_test, y_proba),\n",
    "        \"report\": classification_report(y_test, y_pred),\n",
    "        \"conf_matrix\": confusion_matrix(y_test, y_pred)\n",
    "    }\n",
    "\n",
    "results"
   ]
  },
  {
   "cell_type": "code",
   "execution_count": null,
   "id": "f53ee0b1",
   "metadata": {},
   "outputs": [],
   "source": [
    "accuracies = [res[\"accuracy\"] for res in results.values()]\n",
    "model_names = list(results.keys())\n",
    "\n",
    "plt.figure(figsize=(10, 6))\n",
    "bars = plt.bar(model_names, accuracies, color='skyblue')\n",
    "plt.ylim(0, 1)\n",
    "plt.ylabel('Accuracy')\n",
    "plt.title('Model Accuracy Comparison')\n",
    "\n",
    "for bar, acc in zip(bars, accuracies):\n",
    "    plt.text(bar.get_x() + bar.get_width()/2, bar.get_height() + 0.01, f'{acc:.2f}', ha='center', va='bottom')\n",
    "\n",
    "plt.show()"
   ]
  }
 ],
 "metadata": {},
 "nbformat": 4,
 "nbformat_minor": 5
}
